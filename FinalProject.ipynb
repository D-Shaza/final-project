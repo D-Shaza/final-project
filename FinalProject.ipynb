{
 "cells": [
  {
   "cell_type": "markdown",
   "metadata": {},
   "source": [
    "My project will be connected with analyzing word2vec models built on datasets with different english songs and two very different books, one is adventure and the second is a detective story. We will look at word embeddings distribution built by word2vec, and answer the final question - Is it better to train word2vec on books or on songs. We will also create a database with songs and their authors. (additional part of the work, working with SQL databases)"
   ]
  },
  {
   "cell_type": "code",
   "execution_count": 1,
   "metadata": {},
   "outputs": [],
   "source": [
    "import random  #here we set the randomisation, it should be fixed for better working of the w2v models\n",
    "import numpy as np\n",
    "seed = 100\n",
    "random.seed(seed)\n",
    "np.random.seed(seed)"
   ]
  },
  {
   "cell_type": "code",
   "execution_count": 2,
   "metadata": {},
   "outputs": [],
   "source": [
    "#here we import modules\n",
    "import pandas\n",
    "import torch\n",
    "import numpy\n",
    "from pymystem3 import Mystem\n",
    "import nltk"
   ]
  },
  {
   "cell_type": "code",
   "execution_count": 3,
   "metadata": {},
   "outputs": [
    {
     "name": "stderr",
     "output_type": "stream",
     "text": [
      "[nltk_data] Downloading package punkt to\n",
      "[nltk_data]     /Users/maximdoronkin/nltk_data...\n",
      "[nltk_data]   Package punkt is already up-to-date!\n",
      "[nltk_data] Downloading package stopwords to\n",
      "[nltk_data]     /Users/maximdoronkin/nltk_data...\n",
      "[nltk_data]   Package stopwords is already up-to-date!\n"
     ]
    },
    {
     "data": {
      "text/plain": [
       "True"
      ]
     },
     "execution_count": 3,
     "metadata": {},
     "output_type": "execute_result"
    }
   ],
   "source": [
    "#here we import modules (punctuational and removing parasite-words)\n",
    "nltk.download(\"punkt\")\n",
    "nltk.download(\"stopwords\")"
   ]
  },
  {
   "cell_type": "code",
   "execution_count": 4,
   "metadata": {},
   "outputs": [],
   "source": [
    "#here we import modules\n",
    "import re\n",
    "import gensim\n",
    "import logging\n",
    "import nltk.data\n",
    "import pandas as pd\n",
    "import urllib.request\n",
    "from bs4 import BeautifulSoup\n",
    "from nltk.corpus import stopwords\n",
    "from gensim.models import Word2Vec\n",
    "from nltk.tokenize import sent_tokenize\n",
    "from tqdm import tqdm\n",
    "from pymystem3 import Mystem\n",
    "\n",
    "import warnings\n",
    "warnings.filterwarnings('ignore')"
   ]
  },
  {
   "cell_type": "code",
   "execution_count": 5,
   "metadata": {},
   "outputs": [],
   "source": [
    "logging.basicConfig(format='%(asctime)s : %(levelname)s : %(message)s', level=logging.INFO) #setting logging"
   ]
  },
  {
   "cell_type": "markdown",
   "metadata": {},
   "source": [
    "The function below makes important work, it preprocesses the given text, no matter it will be a poem or a book."
   ]
  },
  {
   "cell_type": "code",
   "execution_count": 6,
   "metadata": {},
   "outputs": [],
   "source": [
    "m = Mystem()\n",
    "stop_words = set(stopwords.words('english'))\n",
    "def preprocess_text(file):\n",
    "    with open(file, 'r', encoding='utf8', errors='ignore') as f:\n",
    "        text = f.read()\n",
    "\n",
    "    new_text = sent_tokenize(text)\n",
    "    new_lines = []\n",
    "\n",
    "    for sentence in tqdm(new_text):\n",
    "        words = nltk.word_tokenize(sentence)\n",
    "        words = [word for word in words if not word in stop_words]\n",
    "        new_words= [word for word in words if word.isalnum()]   \n",
    "        new_lines.append(new_words)\n",
    "    return new_lines"
   ]
  },
  {
   "cell_type": "markdown",
   "metadata": {},
   "source": [
    "Now we look at the files path and here we will start the first part of the research: working with songs"
   ]
  },
  {
   "cell_type": "code",
   "execution_count": 7,
   "metadata": {},
   "outputs": [],
   "source": [
    "file = '0'\n",
    "archive_of_song_lyrics = 'Documents/archive/'+file"
   ]
  },
  {
   "cell_type": "code",
   "execution_count": 8,
   "metadata": {},
   "outputs": [],
   "source": [
    "import sqlite3 #SQL module\n",
    "\n",
    "# connecting to DataBase\n",
    "conn = sqlite3.connect('SONGS.db') #creating SQL database with SONGS\n",
    "# creating coursor object\n",
    "c = conn.cursor()"
   ]
  },
  {
   "cell_type": "code",
   "execution_count": 9,
   "metadata": {},
   "outputs": [
    {
     "data": {
      "text/plain": [
       "<sqlite3.Cursor at 0x1a29531f80>"
      ]
     },
     "execution_count": 9,
     "metadata": {},
     "output_type": "execute_result"
    }
   ],
   "source": [
    "c.execute(\"CREATE TABLE IF NOT EXISTS _SONGS_(author,\tsongs)\")  #creating a table with two columns, with author and his song"
   ]
  },
  {
   "cell_type": "code",
   "execution_count": 10,
   "metadata": {},
   "outputs": [
    {
     "name": "stderr",
     "output_type": "stream",
     "text": [
      "100%|██████████| 1352/1352 [00:00<00:00, 4016.60it/s]\n",
      "100%|██████████| 2248/2248 [00:00<00:00, 6031.32it/s]\n",
      "100%|██████████| 1/1 [00:00<00:00,  8.31it/s]\n",
      "100%|██████████| 245/245 [00:00<00:00, 3949.51it/s]\n",
      "100%|██████████| 245/245 [00:00<00:00, 1381.27it/s]\n",
      "100%|██████████| 129/129 [00:00<00:00, 1836.06it/s]\n",
      "100%|██████████| 304/304 [00:00<00:00, 3057.89it/s]\n",
      "100%|██████████| 404/404 [00:00<00:00, 3967.98it/s]\n",
      "100%|██████████| 1115/1115 [00:00<00:00, 4982.53it/s]\n",
      "100%|██████████| 410/410 [00:00<00:00, 3066.24it/s]\n",
      "100%|██████████| 533/533 [00:00<00:00, 3199.91it/s]\n",
      "100%|██████████| 165/165 [00:00<00:00, 1576.05it/s]\n",
      "100%|██████████| 773/773 [00:00<00:00, 2900.29it/s]\n",
      "100%|██████████| 140/140 [00:00<00:00, 2073.09it/s]\n",
      "100%|██████████| 131/131 [00:00<00:00, 1591.51it/s]\n",
      "100%|██████████| 92/92 [00:00<00:00, 1318.18it/s]\n",
      "100%|██████████| 156/156 [00:00<00:00, 2400.30it/s]\n",
      "100%|██████████| 91/91 [00:00<00:00, 1748.96it/s]\n",
      "100%|██████████| 240/240 [00:00<00:00, 1954.43it/s]\n",
      "100%|██████████| 1/1 [00:00<00:00,  7.21it/s]\n",
      "100%|██████████| 172/172 [00:00<00:00, 3123.86it/s]\n",
      "100%|██████████| 297/297 [00:00<00:00, 3335.39it/s]\n",
      "100%|██████████| 281/281 [00:00<00:00, 2345.95it/s]\n",
      "100%|██████████| 1/1 [00:00<00:00,  7.90it/s]\n",
      "100%|██████████| 547/547 [00:00<00:00, 3146.14it/s]\n",
      "100%|██████████| 100/100 [00:00<00:00, 1568.90it/s]\n",
      "100%|██████████| 320/320 [00:00<00:00, 4230.11it/s]\n",
      "100%|██████████| 792/792 [00:00<00:00, 3525.66it/s]\n",
      "100%|██████████| 143/143 [00:00<00:00, 2028.87it/s]\n",
      "100%|██████████| 1/1 [00:00<00:00, 15.33it/s]\n",
      "100%|██████████| 466/466 [00:00<00:00, 3257.21it/s]\n",
      "100%|██████████| 149/149 [00:00<00:00, 3034.44it/s]\n",
      "100%|██████████| 962/962 [00:00<00:00, 6466.79it/s]\n",
      "100%|██████████| 571/571 [00:00<00:00, 2647.38it/s]\n",
      "100%|██████████| 95/95 [00:00<00:00, 2118.58it/s]\n",
      "100%|██████████| 558/558 [00:00<00:00, 5992.14it/s]\n",
      "100%|██████████| 106/106 [00:00<00:00, 1507.38it/s]\n",
      "100%|██████████| 1/1 [00:00<00:00, 16.45it/s]\n",
      "100%|██████████| 932/932 [00:00<00:00, 10382.88it/s]\n",
      "100%|██████████| 206/206 [00:00<00:00, 1546.73it/s]\n",
      "100%|██████████| 309/309 [00:00<00:00, 2109.29it/s]\n",
      "100%|██████████| 311/311 [00:00<00:00, 2435.34it/s]\n",
      "100%|██████████| 78/78 [00:00<00:00, 1042.50it/s]\n",
      "100%|██████████| 559/559 [00:00<00:00, 3002.94it/s]\n",
      "100%|██████████| 1/1 [00:00<00:00,  7.20it/s]\n",
      "100%|██████████| 125/125 [00:00<00:00, 1876.69it/s]\n",
      "100%|██████████| 521/521 [00:00<00:00, 4000.45it/s]\n",
      "100%|██████████| 887/887 [00:00<00:00, 3205.35it/s]\n",
      "100%|██████████| 361/361 [00:00<00:00, 2898.29it/s]\n"
     ]
    }
   ],
   "source": [
    "import os\n",
    "\n",
    "song_corpus = []\n",
    "preprocessed_words = []\n",
    "for file in os.listdir(\"archieve\"):\n",
    "    lines = preprocess_text('archieve/'+file)\n",
    "    preprocessed_words.append(lines)\n",
    "    for w in lines:\n",
    "        song_corpus.append(w)"
   ]
  },
  {
   "cell_type": "code",
   "execution_count": 11,
   "metadata": {},
   "outputs": [],
   "source": [
    "texts = []\n",
    "for file in os.listdir(\"archieve\"):\n",
    "    text_ = 'archieve/'+file\n",
    "    text__ = ''\n",
    "    with open(text_, 'r', encoding='utf8', errors='ignore') as t:\n",
    "        text = t.read()\n",
    "        lines = [s.strip() for s in text.split('\\n') if s]\n",
    "        text_i = ''\n",
    "        for i in lines:\n",
    "            text_i+=' '\n",
    "            text_i+=i\n",
    "        text__+=text_i\n",
    "    texts.append(text_i)"
   ]
  },
  {
   "cell_type": "code",
   "execution_count": 12,
   "metadata": {},
   "outputs": [],
   "source": [
    "for file in os.listdir(\"archieve\"):\n",
    "    i = 0\n",
    "    c.execute(\"INSERT INTO _SONGS_ VALUES (?, ?)\", (file[:-4], texts[i])) \n",
    "    i += 1"
   ]
  },
  {
   "cell_type": "markdown",
   "metadata": {},
   "source": [
    "We finished creating a database with a table with 2 columns, we won't come back to it. It may help others for future research"
   ]
  },
  {
   "cell_type": "code",
   "execution_count": 13,
   "metadata": {},
   "outputs": [
    {
     "name": "stdout",
     "output_type": "stream",
     "text": [
      "18627\n"
     ]
    }
   ],
   "source": [
    "print(len(song_corpus))  #whole number of words in the corpus, that consists of preprocessed words from songs"
   ]
  },
  {
   "cell_type": "markdown",
   "metadata": {},
   "source": [
    "Now we create and train WORD2VEC model"
   ]
  },
  {
   "cell_type": "code",
   "execution_count": 14,
   "metadata": {},
   "outputs": [
    {
     "name": "stderr",
     "output_type": "stream",
     "text": [
      "2020-11-21 21:52:31,507 : INFO : collecting all words and their counts\n",
      "2020-11-21 21:52:31,510 : INFO : PROGRESS: at sentence #0, processed 0 words, keeping 0 word types\n",
      "2020-11-21 21:52:31,596 : INFO : PROGRESS: at sentence #10000, processed 429794 words, keeping 25654 word types\n",
      "2020-11-21 21:52:31,664 : INFO : collected 34685 word types from a corpus of 851039 raw words and 18627 sentences\n",
      "2020-11-21 21:52:31,665 : INFO : Loading a fresh vocabulary\n",
      "2020-11-21 21:52:31,794 : INFO : effective_min_count=1 retains 34685 unique words (100% of original 34685, drops 0)\n",
      "2020-11-21 21:52:31,795 : INFO : effective_min_count=1 leaves 851039 word corpus (100% of original 851039, drops 0)\n",
      "2020-11-21 21:52:31,887 : INFO : deleting the raw counts dictionary of 34685 items\n",
      "2020-11-21 21:52:31,888 : INFO : sample=0.001 downsamples 43 most-common words\n",
      "2020-11-21 21:52:31,888 : INFO : downsampling leaves estimated 740745 word corpus (87.0% of prior 851039)\n",
      "2020-11-21 21:52:31,960 : INFO : estimated required memory for 34685 words and 300 dimensions: 100586500 bytes\n",
      "2020-11-21 21:52:31,961 : INFO : resetting layer weights\n",
      "2020-11-21 21:52:38,709 : INFO : training model with 3 workers on 34685 vocabulary and 300 features, using sg=0 hs=0 sample=0.001 negative=5 window=2\n",
      "2020-11-21 21:52:39,478 : INFO : worker thread finished; awaiting finish of 2 more threads\n",
      "2020-11-21 21:52:39,478 : INFO : worker thread finished; awaiting finish of 1 more threads\n",
      "2020-11-21 21:52:39,481 : INFO : worker thread finished; awaiting finish of 0 more threads\n",
      "2020-11-21 21:52:39,483 : INFO : EPOCH - 1 : training on 851039 raw words (657077 effective words) took 0.8s, 858935 effective words/s\n",
      "2020-11-21 21:52:40,239 : INFO : worker thread finished; awaiting finish of 2 more threads\n",
      "2020-11-21 21:52:40,245 : INFO : worker thread finished; awaiting finish of 1 more threads\n",
      "2020-11-21 21:52:40,249 : INFO : worker thread finished; awaiting finish of 0 more threads\n",
      "2020-11-21 21:52:40,250 : INFO : EPOCH - 2 : training on 851039 raw words (657367 effective words) took 0.8s, 864716 effective words/s\n",
      "2020-11-21 21:52:41,184 : INFO : worker thread finished; awaiting finish of 2 more threads\n",
      "2020-11-21 21:52:41,185 : INFO : worker thread finished; awaiting finish of 1 more threads\n",
      "2020-11-21 21:52:41,190 : INFO : worker thread finished; awaiting finish of 0 more threads\n",
      "2020-11-21 21:52:41,191 : INFO : EPOCH - 3 : training on 851039 raw words (657066 effective words) took 0.9s, 709025 effective words/s\n",
      "2020-11-21 21:52:42,058 : INFO : worker thread finished; awaiting finish of 2 more threads\n",
      "2020-11-21 21:52:42,060 : INFO : worker thread finished; awaiting finish of 1 more threads\n",
      "2020-11-21 21:52:42,062 : INFO : worker thread finished; awaiting finish of 0 more threads\n",
      "2020-11-21 21:52:42,063 : INFO : EPOCH - 4 : training on 851039 raw words (657381 effective words) took 0.9s, 760693 effective words/s\n",
      "2020-11-21 21:52:42,906 : INFO : worker thread finished; awaiting finish of 2 more threads\n",
      "2020-11-21 21:52:42,906 : INFO : worker thread finished; awaiting finish of 1 more threads\n",
      "2020-11-21 21:52:42,908 : INFO : worker thread finished; awaiting finish of 0 more threads\n",
      "2020-11-21 21:52:42,908 : INFO : EPOCH - 5 : training on 851039 raw words (657287 effective words) took 0.8s, 784974 effective words/s\n",
      "2020-11-21 21:52:43,680 : INFO : worker thread finished; awaiting finish of 2 more threads\n",
      "2020-11-21 21:52:43,700 : INFO : worker thread finished; awaiting finish of 1 more threads\n",
      "2020-11-21 21:52:43,708 : INFO : worker thread finished; awaiting finish of 0 more threads\n",
      "2020-11-21 21:52:43,709 : INFO : EPOCH - 6 : training on 851039 raw words (656874 effective words) took 0.8s, 830112 effective words/s\n",
      "2020-11-21 21:52:44,535 : INFO : worker thread finished; awaiting finish of 2 more threads\n",
      "2020-11-21 21:52:44,538 : INFO : worker thread finished; awaiting finish of 1 more threads\n",
      "2020-11-21 21:52:44,543 : INFO : worker thread finished; awaiting finish of 0 more threads\n",
      "2020-11-21 21:52:44,544 : INFO : EPOCH - 7 : training on 851039 raw words (657152 effective words) took 0.8s, 807533 effective words/s\n",
      "2020-11-21 21:52:45,443 : INFO : worker thread finished; awaiting finish of 2 more threads\n",
      "2020-11-21 21:52:45,444 : INFO : worker thread finished; awaiting finish of 1 more threads\n",
      "2020-11-21 21:52:45,444 : INFO : worker thread finished; awaiting finish of 0 more threads\n",
      "2020-11-21 21:52:45,445 : INFO : EPOCH - 8 : training on 851039 raw words (657209 effective words) took 0.9s, 742070 effective words/s\n",
      "2020-11-21 21:52:46,218 : INFO : worker thread finished; awaiting finish of 2 more threads\n",
      "2020-11-21 21:52:46,223 : INFO : worker thread finished; awaiting finish of 1 more threads\n",
      "2020-11-21 21:52:46,231 : INFO : worker thread finished; awaiting finish of 0 more threads\n",
      "2020-11-21 21:52:46,232 : INFO : EPOCH - 9 : training on 851039 raw words (657352 effective words) took 0.8s, 852844 effective words/s\n",
      "2020-11-21 21:52:47,001 : INFO : worker thread finished; awaiting finish of 2 more threads\n",
      "2020-11-21 21:52:47,004 : INFO : worker thread finished; awaiting finish of 1 more threads\n",
      "2020-11-21 21:52:47,010 : INFO : worker thread finished; awaiting finish of 0 more threads\n",
      "2020-11-21 21:52:47,012 : INFO : EPOCH - 10 : training on 851039 raw words (657333 effective words) took 0.8s, 857304 effective words/s\n",
      "2020-11-21 21:52:47,735 : INFO : worker thread finished; awaiting finish of 2 more threads\n",
      "2020-11-21 21:52:47,739 : INFO : worker thread finished; awaiting finish of 1 more threads\n",
      "2020-11-21 21:52:47,740 : INFO : worker thread finished; awaiting finish of 0 more threads\n",
      "2020-11-21 21:52:47,741 : INFO : EPOCH - 11 : training on 851039 raw words (657538 effective words) took 0.7s, 913484 effective words/s\n",
      "2020-11-21 21:52:48,722 : INFO : worker thread finished; awaiting finish of 2 more threads\n",
      "2020-11-21 21:52:48,727 : INFO : worker thread finished; awaiting finish of 1 more threads\n",
      "2020-11-21 21:52:48,733 : INFO : worker thread finished; awaiting finish of 0 more threads\n",
      "2020-11-21 21:52:48,734 : INFO : EPOCH - 12 : training on 851039 raw words (656976 effective words) took 1.0s, 666469 effective words/s\n",
      "2020-11-21 21:52:49,556 : INFO : worker thread finished; awaiting finish of 2 more threads\n",
      "2020-11-21 21:52:49,559 : INFO : worker thread finished; awaiting finish of 1 more threads\n",
      "2020-11-21 21:52:49,560 : INFO : worker thread finished; awaiting finish of 0 more threads\n",
      "2020-11-21 21:52:49,562 : INFO : EPOCH - 13 : training on 851039 raw words (657242 effective words) took 0.8s, 801069 effective words/s\n",
      "2020-11-21 21:52:50,363 : INFO : worker thread finished; awaiting finish of 2 more threads\n",
      "2020-11-21 21:52:50,370 : INFO : worker thread finished; awaiting finish of 1 more threads\n",
      "2020-11-21 21:52:50,385 : INFO : worker thread finished; awaiting finish of 0 more threads\n",
      "2020-11-21 21:52:50,386 : INFO : EPOCH - 14 : training on 851039 raw words (657394 effective words) took 0.8s, 806600 effective words/s\n",
      "2020-11-21 21:52:51,143 : INFO : worker thread finished; awaiting finish of 2 more threads\n",
      "2020-11-21 21:52:51,154 : INFO : worker thread finished; awaiting finish of 1 more threads\n",
      "2020-11-21 21:52:51,161 : INFO : worker thread finished; awaiting finish of 0 more threads\n",
      "2020-11-21 21:52:51,167 : INFO : EPOCH - 15 : training on 851039 raw words (657315 effective words) took 0.8s, 847168 effective words/s\n",
      "2020-11-21 21:52:51,910 : INFO : worker thread finished; awaiting finish of 2 more threads\n",
      "2020-11-21 21:52:51,912 : INFO : worker thread finished; awaiting finish of 1 more threads\n",
      "2020-11-21 21:52:51,917 : INFO : worker thread finished; awaiting finish of 0 more threads\n",
      "2020-11-21 21:52:51,918 : INFO : EPOCH - 16 : training on 851039 raw words (657285 effective words) took 0.7s, 885690 effective words/s\n",
      "2020-11-21 21:52:52,651 : INFO : worker thread finished; awaiting finish of 2 more threads\n",
      "2020-11-21 21:52:52,654 : INFO : worker thread finished; awaiting finish of 1 more threads\n",
      "2020-11-21 21:52:52,659 : INFO : worker thread finished; awaiting finish of 0 more threads\n",
      "2020-11-21 21:52:52,662 : INFO : EPOCH - 17 : training on 851039 raw words (657299 effective words) took 0.7s, 894493 effective words/s\n",
      "2020-11-21 21:52:53,349 : INFO : worker thread finished; awaiting finish of 2 more threads\n",
      "2020-11-21 21:52:53,351 : INFO : worker thread finished; awaiting finish of 1 more threads\n",
      "2020-11-21 21:52:53,356 : INFO : worker thread finished; awaiting finish of 0 more threads\n",
      "2020-11-21 21:52:53,357 : INFO : EPOCH - 18 : training on 851039 raw words (657445 effective words) took 0.7s, 959188 effective words/s\n",
      "2020-11-21 21:52:54,295 : INFO : worker thread finished; awaiting finish of 2 more threads\n",
      "2020-11-21 21:52:54,298 : INFO : worker thread finished; awaiting finish of 1 more threads\n",
      "2020-11-21 21:52:54,312 : INFO : worker thread finished; awaiting finish of 0 more threads\n",
      "2020-11-21 21:52:54,313 : INFO : EPOCH - 19 : training on 851039 raw words (657100 effective words) took 0.9s, 699294 effective words/s\n",
      "2020-11-21 21:52:55,121 : INFO : worker thread finished; awaiting finish of 2 more threads\n",
      "2020-11-21 21:52:55,131 : INFO : worker thread finished; awaiting finish of 1 more threads\n",
      "2020-11-21 21:52:55,132 : INFO : worker thread finished; awaiting finish of 0 more threads\n",
      "2020-11-21 21:52:55,133 : INFO : EPOCH - 20 : training on 851039 raw words (657051 effective words) took 0.8s, 808171 effective words/s\n",
      "2020-11-21 21:52:55,853 : INFO : worker thread finished; awaiting finish of 2 more threads\n",
      "2020-11-21 21:52:55,856 : INFO : worker thread finished; awaiting finish of 1 more threads\n",
      "2020-11-21 21:52:55,862 : INFO : worker thread finished; awaiting finish of 0 more threads\n",
      "2020-11-21 21:52:55,862 : INFO : EPOCH - 21 : training on 851039 raw words (657479 effective words) took 0.7s, 909934 effective words/s\n",
      "2020-11-21 21:52:56,625 : INFO : worker thread finished; awaiting finish of 2 more threads\n",
      "2020-11-21 21:52:56,642 : INFO : worker thread finished; awaiting finish of 1 more threads\n",
      "2020-11-21 21:52:56,644 : INFO : worker thread finished; awaiting finish of 0 more threads\n",
      "2020-11-21 21:52:56,648 : INFO : EPOCH - 22 : training on 851039 raw words (657270 effective words) took 0.8s, 848697 effective words/s\n",
      "2020-11-21 21:52:57,507 : INFO : worker thread finished; awaiting finish of 2 more threads\n",
      "2020-11-21 21:52:57,508 : INFO : worker thread finished; awaiting finish of 1 more threads\n",
      "2020-11-21 21:52:57,514 : INFO : worker thread finished; awaiting finish of 0 more threads\n",
      "2020-11-21 21:52:57,514 : INFO : EPOCH - 23 : training on 851039 raw words (657146 effective words) took 0.8s, 773777 effective words/s\n",
      "2020-11-21 21:52:58,294 : INFO : worker thread finished; awaiting finish of 2 more threads\n",
      "2020-11-21 21:52:58,296 : INFO : worker thread finished; awaiting finish of 1 more threads\n",
      "2020-11-21 21:52:58,298 : INFO : worker thread finished; awaiting finish of 0 more threads\n",
      "2020-11-21 21:52:58,299 : INFO : EPOCH - 24 : training on 851039 raw words (657258 effective words) took 0.8s, 845914 effective words/s\n",
      "2020-11-21 21:52:59,023 : INFO : worker thread finished; awaiting finish of 2 more threads\n",
      "2020-11-21 21:52:59,024 : INFO : worker thread finished; awaiting finish of 1 more threads\n",
      "2020-11-21 21:52:59,032 : INFO : worker thread finished; awaiting finish of 0 more threads\n",
      "2020-11-21 21:52:59,033 : INFO : EPOCH - 25 : training on 851039 raw words (657322 effective words) took 0.7s, 910403 effective words/s\n",
      "2020-11-21 21:52:59,712 : INFO : worker thread finished; awaiting finish of 2 more threads\n",
      "2020-11-21 21:52:59,716 : INFO : worker thread finished; awaiting finish of 1 more threads\n",
      "2020-11-21 21:52:59,717 : INFO : worker thread finished; awaiting finish of 0 more threads\n",
      "2020-11-21 21:52:59,718 : INFO : EPOCH - 26 : training on 851039 raw words (657406 effective words) took 0.7s, 971596 effective words/s\n",
      "2020-11-21 21:53:00,584 : INFO : worker thread finished; awaiting finish of 2 more threads\n",
      "2020-11-21 21:53:00,600 : INFO : worker thread finished; awaiting finish of 1 more threads\n",
      "2020-11-21 21:53:00,602 : INFO : worker thread finished; awaiting finish of 0 more threads\n",
      "2020-11-21 21:53:00,602 : INFO : EPOCH - 27 : training on 851039 raw words (657283 effective words) took 0.9s, 750316 effective words/s\n",
      "2020-11-21 21:53:01,439 : INFO : worker thread finished; awaiting finish of 2 more threads\n",
      "2020-11-21 21:53:01,440 : INFO : worker thread finished; awaiting finish of 1 more threads\n",
      "2020-11-21 21:53:01,445 : INFO : worker thread finished; awaiting finish of 0 more threads\n",
      "2020-11-21 21:53:01,445 : INFO : EPOCH - 28 : training on 851039 raw words (656983 effective words) took 0.8s, 786981 effective words/s\n",
      "2020-11-21 21:53:02,137 : INFO : worker thread finished; awaiting finish of 2 more threads\n",
      "2020-11-21 21:53:02,138 : INFO : worker thread finished; awaiting finish of 1 more threads\n",
      "2020-11-21 21:53:02,139 : INFO : worker thread finished; awaiting finish of 0 more threads\n",
      "2020-11-21 21:53:02,139 : INFO : EPOCH - 29 : training on 851039 raw words (657153 effective words) took 0.7s, 956933 effective words/s\n",
      "2020-11-21 21:53:02,935 : INFO : worker thread finished; awaiting finish of 2 more threads\n",
      "2020-11-21 21:53:02,939 : INFO : worker thread finished; awaiting finish of 1 more threads\n",
      "2020-11-21 21:53:02,943 : INFO : worker thread finished; awaiting finish of 0 more threads\n",
      "2020-11-21 21:53:02,945 : INFO : EPOCH - 30 : training on 851039 raw words (657379 effective words) took 0.8s, 824327 effective words/s\n",
      "2020-11-21 21:53:02,946 : INFO : training on a 25531170 raw words (19717422 effective words) took 24.2s, 813546 effective words/s\n"
     ]
    },
    {
     "data": {
      "text/plain": [
       "(19717422, 25531170)"
      ]
     },
     "execution_count": 14,
     "metadata": {},
     "output_type": "execute_result"
    }
   ],
   "source": [
    "model_poems = Word2Vec(size = 300, window=2, min_count=1)    \n",
    "model_poems.build_vocab(song_corpus, progress_per=10000)\n",
    "model_poems.train(song_corpus, total_examples=model_poems.corpus_count, epochs=30, report_delay=1)"
   ]
  },
  {
   "cell_type": "code",
   "execution_count": 15,
   "metadata": {},
   "outputs": [
    {
     "data": {
      "text/plain": [
       "0.36511838"
      ]
     },
     "execution_count": 15,
     "metadata": {},
     "output_type": "execute_result"
    }
   ],
   "source": [
    "model_poems.wv.similarity(\"woman\", \"girl\")   #as we see our model is not very good"
   ]
  },
  {
   "cell_type": "code",
   "execution_count": 16,
   "metadata": {},
   "outputs": [
    {
     "data": {
      "text/plain": [
       "0.38084882"
      ]
     },
     "execution_count": 16,
     "metadata": {},
     "output_type": "execute_result"
    }
   ],
   "source": [
    "model_poems.wv.similarity(\"chick\", \"girl\") #better with more modern word which we see in songs"
   ]
  },
  {
   "cell_type": "code",
   "execution_count": 17,
   "metadata": {},
   "outputs": [
    {
     "name": "stderr",
     "output_type": "stream",
     "text": [
      "2020-11-21 21:54:21,450 : INFO : precomputing L2-norms of word weight vectors\n"
     ]
    },
    {
     "name": "stdout",
     "output_type": "stream",
     "text": [
      "girl\n",
      "[ 1.4833032  -0.43672687  0.36073458  0.8769017   0.7962256   1.1683064\n",
      "  0.40781942 -0.9647298  -1.6974324   0.06843131]\n",
      "nasty 0.43088120222091675\n",
      "boy 0.3937450051307678\n",
      "chick 0.38084888458251953\n",
      "woman 0.3651183843612671\n",
      "settle 0.36205029487609863\n",
      "problem 0.3555505871772766\n",
      "bit 0.3442194163799286\n",
      "guy 0.3416540026664734\n",
      "baby 0.3341555595397949\n",
      "coming 0.32758647203445435\n",
      "\n",
      "\n",
      "good\n",
      "[ 0.20487852  0.25247148  0.4505532   0.94253993  1.5934209  -0.42719418\n",
      "  0.14325285 -0.4260572  -0.6081816   0.441017  ]\n",
      "prosperous 0.3593844473361969\n",
      "real 0.3555196225643158\n",
      "feelin 0.3531378507614136\n",
      "pain 0.35285302996635437\n",
      "funny 0.34427952766418457\n",
      "fucked 0.33773577213287354\n",
      "na 0.33773013949394226\n",
      "happens 0.33739328384399414\n",
      "important 0.33332163095474243\n",
      "sexy 0.3330508768558502\n",
      "\n",
      "\n",
      "wall\n",
      "[-0.42782193 -0.25521326  0.02452621  0.07656661  0.08341298 -0.36888283\n",
      "  0.2750464   0.42607766  0.49432415 -0.18387076]\n",
      "punctuate 0.47919920086860657\n",
      "puking 0.47794124484062195\n",
      "Pastry 0.4402727484703064\n",
      "curtain 0.4241151809692383\n",
      "headlights 0.41796615719795227\n",
      "Crush 0.39487072825431824\n",
      "Cheering 0.3911721408367157\n",
      "Art 0.38705360889434814\n",
      "hole 0.3848676383495331\n",
      "thigh 0.3821479082107544\n",
      "\n",
      "\n",
      "fire\n",
      "[-0.28076616 -0.6415243  -0.20932163 -1.1470648   0.18726234  0.81533015\n",
      " -0.8794165   0.04741069  1.4173576   2.2752662 ]\n",
      "Fire 0.5148888230323792\n",
      "baptize 0.512095034122467\n",
      "Uhn 0.5009034872055054\n",
      "sear 0.49680066108703613\n",
      "roasting 0.4855961799621582\n",
      "Meliah 0.47412756085395813\n",
      "bratchet 0.45998629927635193\n",
      "Hellfire 0.4572903513908386\n",
      "engines 0.45071446895599365\n",
      "drowning 0.45066672563552856\n",
      "\n",
      "\n",
      "like\n",
      "[ 0.68933505 -0.9676798  -0.25252944  1.1372937   0.18895262  0.11020529\n",
      "  0.4896778   0.4014303  -1.2131056   0.20503551]\n",
      "fine 0.3418118953704834\n",
      "disco 0.3198981285095215\n",
      "Like 0.3154922425746918\n",
      "lookin 0.3118825852870941\n",
      "ballerific 0.3030635714530945\n",
      "I 0.29789644479751587\n",
      "tough 0.2916022539138794\n",
      "owe 0.26714032888412476\n",
      "fool 0.2660553455352783\n",
      "shiny 0.26532554626464844\n",
      "\n",
      "\n"
     ]
    }
   ],
   "source": [
    "def show_first_10_most_semantically_similar_words(model):\n",
    "    for word in ['girl', 'good', 'wall', 'fire', 'like']:\n",
    "        # is the word present in the model?\n",
    "        if word in model:\n",
    "            print(word)\n",
    "            # looking at the first 10 numbers from the embedding \n",
    "            print(model[word][:10])\n",
    "            # getting 10 neighbours\n",
    "            for i in model.most_similar(positive=[word], topn=10):\n",
    "                # word + cosine similarity\n",
    "                print(i[0], i[1])\n",
    "            print('\\n')\n",
    "        else:\n",
    "            # Oops!\n",
    "            print('Oops, the word \"%s\" is not in the model!' % word)\n",
    "show_first_10_most_semantically_similar_words(model_poems)"
   ]
  },
  {
   "cell_type": "markdown",
   "metadata": {},
   "source": [
    "We see that model based on song corpus does not clearly predicts the most semantically similar word in our real life. Ehy is it so? It is so because songs are often created on the topic of love and therefore the word \"girl\" will be more assosiated with the \"chick\" than with \"woman\" because it depends on songs speciality, people use not simple phrases, and it depends on the historical period as well, though song text corpus is built on nowadays singers."
   ]
  },
  {
   "cell_type": "markdown",
   "metadata": {},
   "source": [
    "Now let's go to the second part of the research, looking at book texts by Agatha Christie (detective story - \"Dearh on the Nile\") and Jule Verne (fantastic adventure - \"20000 leages under the sea\")"
   ]
  },
  {
   "cell_type": "code",
   "execution_count": 18,
   "metadata": {},
   "outputs": [],
   "source": [
    "Agatha_Christies_texts_corpus = ['Death-On-The-Nile.txt']\n",
    "Jules_Verne_texts_corpus = ['20000.rtf']"
   ]
  },
  {
   "cell_type": "markdown",
   "metadata": {},
   "source": [
    "Now let's train Word2Vec models on the texts"
   ]
  },
  {
   "cell_type": "code",
   "execution_count": 19,
   "metadata": {},
   "outputs": [
    {
     "name": "stderr",
     "output_type": "stream",
     "text": [
      "100%|██████████| 7448/7448 [00:01<00:00, 5776.75it/s]\n",
      "2020-11-21 21:54:35,073 : INFO : collecting all words and their counts\n",
      "2020-11-21 21:54:35,073 : INFO : PROGRESS: at sentence #0, processed 0 words, keeping 0 word types\n",
      "2020-11-21 21:54:35,092 : INFO : collected 6683 word types from a corpus of 42271 raw words and 7448 sentences\n",
      "2020-11-21 21:54:35,093 : INFO : Loading a fresh vocabulary\n",
      "2020-11-21 21:54:35,113 : INFO : effective_min_count=1 retains 6683 unique words (100% of original 6683, drops 0)\n",
      "2020-11-21 21:54:35,113 : INFO : effective_min_count=1 leaves 42271 word corpus (100% of original 42271, drops 0)\n",
      "2020-11-21 21:54:35,149 : INFO : deleting the raw counts dictionary of 6683 items\n",
      "2020-11-21 21:54:35,150 : INFO : sample=0.001 downsamples 43 most-common words\n",
      "2020-11-21 21:54:35,150 : INFO : downsampling leaves estimated 37022 word corpus (87.6% of prior 42271)\n",
      "2020-11-21 21:54:35,174 : INFO : estimated required memory for 6683 words and 300 dimensions: 19380700 bytes\n",
      "2020-11-21 21:54:35,175 : INFO : resetting layer weights\n",
      "2020-11-21 21:54:36,499 : INFO : training model with 3 workers on 6683 vocabulary and 300 features, using sg=0 hs=0 sample=0.001 negative=5 window=1\n",
      "2020-11-21 21:54:36,544 : INFO : worker thread finished; awaiting finish of 2 more threads\n",
      "2020-11-21 21:54:36,547 : INFO : worker thread finished; awaiting finish of 1 more threads\n",
      "2020-11-21 21:54:36,566 : INFO : worker thread finished; awaiting finish of 0 more threads\n",
      "2020-11-21 21:54:36,567 : INFO : EPOCH - 1 : training on 42271 raw words (37049 effective words) took 0.0s, 836170 effective words/s\n",
      "2020-11-21 21:54:36,623 : INFO : worker thread finished; awaiting finish of 2 more threads\n",
      "2020-11-21 21:54:36,625 : INFO : worker thread finished; awaiting finish of 1 more threads\n",
      "2020-11-21 21:54:36,636 : INFO : worker thread finished; awaiting finish of 0 more threads\n",
      "2020-11-21 21:54:36,637 : INFO : EPOCH - 2 : training on 42271 raw words (37077 effective words) took 0.1s, 614911 effective words/s\n",
      "2020-11-21 21:54:36,697 : INFO : worker thread finished; awaiting finish of 2 more threads\n",
      "2020-11-21 21:54:36,703 : INFO : worker thread finished; awaiting finish of 1 more threads\n",
      "2020-11-21 21:54:36,712 : INFO : worker thread finished; awaiting finish of 0 more threads\n",
      "2020-11-21 21:54:36,712 : INFO : EPOCH - 3 : training on 42271 raw words (37047 effective words) took 0.1s, 715042 effective words/s\n",
      "2020-11-21 21:54:36,771 : INFO : worker thread finished; awaiting finish of 2 more threads\n",
      "2020-11-21 21:54:36,773 : INFO : worker thread finished; awaiting finish of 1 more threads\n",
      "2020-11-21 21:54:36,786 : INFO : worker thread finished; awaiting finish of 0 more threads\n",
      "2020-11-21 21:54:36,786 : INFO : EPOCH - 4 : training on 42271 raw words (36940 effective words) took 0.0s, 784065 effective words/s\n",
      "2020-11-21 21:54:36,838 : INFO : worker thread finished; awaiting finish of 2 more threads\n",
      "2020-11-21 21:54:36,842 : INFO : worker thread finished; awaiting finish of 1 more threads\n",
      "2020-11-21 21:54:36,860 : INFO : worker thread finished; awaiting finish of 0 more threads\n",
      "2020-11-21 21:54:36,861 : INFO : EPOCH - 5 : training on 42271 raw words (37062 effective words) took 0.1s, 647077 effective words/s\n",
      "2020-11-21 21:54:36,917 : INFO : worker thread finished; awaiting finish of 2 more threads\n",
      "2020-11-21 21:54:36,922 : INFO : worker thread finished; awaiting finish of 1 more threads\n",
      "2020-11-21 21:54:36,934 : INFO : worker thread finished; awaiting finish of 0 more threads\n",
      "2020-11-21 21:54:36,934 : INFO : EPOCH - 6 : training on 42271 raw words (37074 effective words) took 0.1s, 582511 effective words/s\n",
      "2020-11-21 21:54:36,993 : INFO : worker thread finished; awaiting finish of 2 more threads\n",
      "2020-11-21 21:54:36,995 : INFO : worker thread finished; awaiting finish of 1 more threads\n",
      "2020-11-21 21:54:37,006 : INFO : worker thread finished; awaiting finish of 0 more threads\n",
      "2020-11-21 21:54:37,007 : INFO : EPOCH - 7 : training on 42271 raw words (37109 effective words) took 0.1s, 627971 effective words/s\n",
      "2020-11-21 21:54:37,060 : INFO : worker thread finished; awaiting finish of 2 more threads\n",
      "2020-11-21 21:54:37,063 : INFO : worker thread finished; awaiting finish of 1 more threads\n",
      "2020-11-21 21:54:37,088 : INFO : worker thread finished; awaiting finish of 0 more threads\n",
      "2020-11-21 21:54:37,089 : INFO : EPOCH - 8 : training on 42271 raw words (36927 effective words) took 0.1s, 563998 effective words/s\n",
      "2020-11-21 21:54:37,147 : INFO : worker thread finished; awaiting finish of 2 more threads\n",
      "2020-11-21 21:54:37,153 : INFO : worker thread finished; awaiting finish of 1 more threads\n",
      "2020-11-21 21:54:37,168 : INFO : worker thread finished; awaiting finish of 0 more threads\n",
      "2020-11-21 21:54:37,169 : INFO : EPOCH - 9 : training on 42271 raw words (36968 effective words) took 0.1s, 559783 effective words/s\n",
      "2020-11-21 21:54:37,224 : INFO : worker thread finished; awaiting finish of 2 more threads\n",
      "2020-11-21 21:54:37,225 : INFO : worker thread finished; awaiting finish of 1 more threads\n",
      "2020-11-21 21:54:37,231 : INFO : worker thread finished; awaiting finish of 0 more threads\n",
      "2020-11-21 21:54:37,231 : INFO : EPOCH - 10 : training on 42271 raw words (36975 effective words) took 0.0s, 807544 effective words/s\n",
      "2020-11-21 21:54:37,290 : INFO : worker thread finished; awaiting finish of 2 more threads\n",
      "2020-11-21 21:54:37,294 : INFO : worker thread finished; awaiting finish of 1 more threads\n",
      "2020-11-21 21:54:37,308 : INFO : worker thread finished; awaiting finish of 0 more threads\n",
      "2020-11-21 21:54:37,309 : INFO : EPOCH - 11 : training on 42271 raw words (37005 effective words) took 0.1s, 601961 effective words/s\n",
      "2020-11-21 21:54:37,400 : INFO : worker thread finished; awaiting finish of 2 more threads\n",
      "2020-11-21 21:54:37,403 : INFO : worker thread finished; awaiting finish of 1 more threads\n",
      "2020-11-21 21:54:37,414 : INFO : worker thread finished; awaiting finish of 0 more threads\n",
      "2020-11-21 21:54:37,415 : INFO : EPOCH - 12 : training on 42271 raw words (37032 effective words) took 0.1s, 401452 effective words/s\n",
      "2020-11-21 21:54:37,484 : INFO : worker thread finished; awaiting finish of 2 more threads\n",
      "2020-11-21 21:54:37,488 : INFO : worker thread finished; awaiting finish of 1 more threads\n",
      "2020-11-21 21:54:37,501 : INFO : worker thread finished; awaiting finish of 0 more threads\n",
      "2020-11-21 21:54:37,501 : INFO : EPOCH - 13 : training on 42271 raw words (37049 effective words) took 0.1s, 646099 effective words/s\n",
      "2020-11-21 21:54:37,557 : INFO : worker thread finished; awaiting finish of 2 more threads\n",
      "2020-11-21 21:54:37,562 : INFO : worker thread finished; awaiting finish of 1 more threads\n",
      "2020-11-21 21:54:37,571 : INFO : worker thread finished; awaiting finish of 0 more threads\n",
      "2020-11-21 21:54:37,572 : INFO : EPOCH - 14 : training on 42271 raw words (37042 effective words) took 0.0s, 785832 effective words/s\n",
      "2020-11-21 21:54:37,624 : INFO : worker thread finished; awaiting finish of 2 more threads\n",
      "2020-11-21 21:54:37,627 : INFO : worker thread finished; awaiting finish of 1 more threads\n",
      "2020-11-21 21:54:37,632 : INFO : worker thread finished; awaiting finish of 0 more threads\n",
      "2020-11-21 21:54:37,633 : INFO : EPOCH - 15 : training on 42271 raw words (37018 effective words) took 0.0s, 755142 effective words/s\n",
      "2020-11-21 21:54:37,704 : INFO : worker thread finished; awaiting finish of 2 more threads\n",
      "2020-11-21 21:54:37,709 : INFO : worker thread finished; awaiting finish of 1 more threads\n",
      "2020-11-21 21:54:37,723 : INFO : worker thread finished; awaiting finish of 0 more threads\n",
      "2020-11-21 21:54:37,725 : INFO : EPOCH - 16 : training on 42271 raw words (37070 effective words) took 0.1s, 473392 effective words/s\n",
      "2020-11-21 21:54:37,800 : INFO : worker thread finished; awaiting finish of 2 more threads\n",
      "2020-11-21 21:54:37,802 : INFO : worker thread finished; awaiting finish of 1 more threads\n",
      "2020-11-21 21:54:37,814 : INFO : worker thread finished; awaiting finish of 0 more threads\n",
      "2020-11-21 21:54:37,815 : INFO : EPOCH - 17 : training on 42271 raw words (36984 effective words) took 0.1s, 706253 effective words/s\n",
      "2020-11-21 21:54:37,870 : INFO : worker thread finished; awaiting finish of 2 more threads\n",
      "2020-11-21 21:54:37,872 : INFO : worker thread finished; awaiting finish of 1 more threads\n",
      "2020-11-21 21:54:37,892 : INFO : worker thread finished; awaiting finish of 0 more threads\n",
      "2020-11-21 21:54:37,893 : INFO : EPOCH - 18 : training on 42271 raw words (36996 effective words) took 0.1s, 552145 effective words/s\n",
      "2020-11-21 21:54:37,949 : INFO : worker thread finished; awaiting finish of 2 more threads\n",
      "2020-11-21 21:54:37,950 : INFO : worker thread finished; awaiting finish of 1 more threads\n",
      "2020-11-21 21:54:37,960 : INFO : worker thread finished; awaiting finish of 0 more threads\n",
      "2020-11-21 21:54:37,961 : INFO : EPOCH - 19 : training on 42271 raw words (36988 effective words) took 0.0s, 788269 effective words/s\n",
      "2020-11-21 21:54:38,016 : INFO : worker thread finished; awaiting finish of 2 more threads\n",
      "2020-11-21 21:54:38,020 : INFO : worker thread finished; awaiting finish of 1 more threads\n",
      "2020-11-21 21:54:38,034 : INFO : worker thread finished; awaiting finish of 0 more threads\n",
      "2020-11-21 21:54:38,035 : INFO : EPOCH - 20 : training on 42271 raw words (37074 effective words) took 0.0s, 863411 effective words/s\n",
      "2020-11-21 21:54:38,084 : INFO : worker thread finished; awaiting finish of 2 more threads\n",
      "2020-11-21 21:54:38,089 : INFO : worker thread finished; awaiting finish of 1 more threads\n",
      "2020-11-21 21:54:38,101 : INFO : worker thread finished; awaiting finish of 0 more threads\n",
      "2020-11-21 21:54:38,101 : INFO : EPOCH - 21 : training on 42271 raw words (37066 effective words) took 0.1s, 700420 effective words/s\n",
      "2020-11-21 21:54:38,159 : INFO : worker thread finished; awaiting finish of 2 more threads\n",
      "2020-11-21 21:54:38,165 : INFO : worker thread finished; awaiting finish of 1 more threads\n",
      "2020-11-21 21:54:38,177 : INFO : worker thread finished; awaiting finish of 0 more threads\n",
      "2020-11-21 21:54:38,177 : INFO : EPOCH - 22 : training on 42271 raw words (37007 effective words) took 0.1s, 575926 effective words/s\n",
      "2020-11-21 21:54:38,231 : INFO : worker thread finished; awaiting finish of 2 more threads\n",
      "2020-11-21 21:54:38,235 : INFO : worker thread finished; awaiting finish of 1 more threads\n",
      "2020-11-21 21:54:38,246 : INFO : worker thread finished; awaiting finish of 0 more threads\n",
      "2020-11-21 21:54:38,247 : INFO : EPOCH - 23 : training on 42271 raw words (37107 effective words) took 0.1s, 644147 effective words/s\n",
      "2020-11-21 21:54:38,321 : INFO : worker thread finished; awaiting finish of 2 more threads\n",
      "2020-11-21 21:54:38,327 : INFO : worker thread finished; awaiting finish of 1 more threads\n",
      "2020-11-21 21:54:38,348 : INFO : worker thread finished; awaiting finish of 0 more threads\n",
      "2020-11-21 21:54:38,348 : INFO : EPOCH - 24 : training on 42271 raw words (36981 effective words) took 0.1s, 408672 effective words/s\n",
      "2020-11-21 21:54:38,430 : INFO : worker thread finished; awaiting finish of 2 more threads\n",
      "2020-11-21 21:54:38,438 : INFO : worker thread finished; awaiting finish of 1 more threads\n",
      "2020-11-21 21:54:38,453 : INFO : worker thread finished; awaiting finish of 0 more threads\n",
      "2020-11-21 21:54:38,454 : INFO : EPOCH - 25 : training on 42271 raw words (37007 effective words) took 0.1s, 417262 effective words/s\n",
      "2020-11-21 21:54:38,505 : INFO : worker thread finished; awaiting finish of 2 more threads\n",
      "2020-11-21 21:54:38,510 : INFO : worker thread finished; awaiting finish of 1 more threads\n",
      "2020-11-21 21:54:38,522 : INFO : worker thread finished; awaiting finish of 0 more threads\n",
      "2020-11-21 21:54:38,523 : INFO : EPOCH - 26 : training on 42271 raw words (37044 effective words) took 0.1s, 664080 effective words/s\n",
      "2020-11-21 21:54:38,574 : INFO : worker thread finished; awaiting finish of 2 more threads\n",
      "2020-11-21 21:54:38,577 : INFO : worker thread finished; awaiting finish of 1 more threads\n",
      "2020-11-21 21:54:38,584 : INFO : worker thread finished; awaiting finish of 0 more threads\n",
      "2020-11-21 21:54:38,584 : INFO : EPOCH - 27 : training on 42271 raw words (37106 effective words) took 0.1s, 682319 effective words/s\n",
      "2020-11-21 21:54:38,641 : INFO : worker thread finished; awaiting finish of 2 more threads\n",
      "2020-11-21 21:54:38,646 : INFO : worker thread finished; awaiting finish of 1 more threads\n",
      "2020-11-21 21:54:38,657 : INFO : worker thread finished; awaiting finish of 0 more threads\n",
      "2020-11-21 21:54:38,658 : INFO : EPOCH - 28 : training on 42271 raw words (37034 effective words) took 0.1s, 623827 effective words/s\n",
      "2020-11-21 21:54:38,722 : INFO : worker thread finished; awaiting finish of 2 more threads\n",
      "2020-11-21 21:54:38,728 : INFO : worker thread finished; awaiting finish of 1 more threads\n",
      "2020-11-21 21:54:38,745 : INFO : worker thread finished; awaiting finish of 0 more threads\n",
      "2020-11-21 21:54:38,746 : INFO : EPOCH - 29 : training on 42271 raw words (37014 effective words) took 0.1s, 530028 effective words/s\n",
      "2020-11-21 21:54:38,807 : INFO : worker thread finished; awaiting finish of 2 more threads\n",
      "2020-11-21 21:54:38,810 : INFO : worker thread finished; awaiting finish of 1 more threads\n",
      "2020-11-21 21:54:38,827 : INFO : worker thread finished; awaiting finish of 0 more threads\n",
      "2020-11-21 21:54:38,828 : INFO : EPOCH - 30 : training on 42271 raw words (37021 effective words) took 0.1s, 549504 effective words/s\n",
      "2020-11-21 21:54:38,829 : INFO : training on a 1268130 raw words (1110873 effective words) took 2.3s, 476987 effective words/s\n"
     ]
    }
   ],
   "source": [
    "for text in Agatha_Christies_texts_corpus:\n",
    "    new_lines_agatha = preprocess_text(text)\n",
    "    model_agatha = Word2Vec(size = 300, window=1, min_count=1)   \n",
    "    model_agatha.build_vocab(new_lines_agatha, progress_per=10000)\n",
    "    model_agatha.train(new_lines_agatha, total_examples=model_agatha.corpus_count, epochs=30, report_delay=1)"
   ]
  },
  {
   "cell_type": "code",
   "execution_count": 20,
   "metadata": {},
   "outputs": [
    {
     "name": "stderr",
     "output_type": "stream",
     "text": [
      "100%|██████████| 2090/2090 [00:00<00:00, 6759.36it/s]\n",
      "2020-11-21 21:55:10,855 : INFO : collecting all words and their counts\n",
      "2020-11-21 21:55:10,855 : INFO : PROGRESS: at sentence #0, processed 0 words, keeping 0 word types\n",
      "2020-11-21 21:55:10,861 : INFO : collected 5341 word types from a corpus of 19382 raw words and 2090 sentences\n",
      "2020-11-21 21:55:10,863 : INFO : Loading a fresh vocabulary\n",
      "2020-11-21 21:55:10,874 : INFO : effective_min_count=1 retains 5341 unique words (100% of original 5341, drops 0)\n",
      "2020-11-21 21:55:10,875 : INFO : effective_min_count=1 leaves 19382 word corpus (100% of original 19382, drops 0)\n",
      "2020-11-21 21:55:10,900 : INFO : deleting the raw counts dictionary of 5341 items\n",
      "2020-11-21 21:55:10,900 : INFO : sample=0.001 downsamples 26 most-common words\n",
      "2020-11-21 21:55:10,901 : INFO : downsampling leaves estimated 18164 word corpus (93.7% of prior 19382)\n",
      "2020-11-21 21:55:10,914 : INFO : estimated required memory for 5341 words and 300 dimensions: 15488900 bytes\n",
      "2020-11-21 21:55:10,917 : INFO : resetting layer weights\n",
      "2020-11-21 21:55:11,984 : INFO : training model with 3 workers on 5341 vocabulary and 300 features, using sg=0 hs=0 sample=0.001 negative=5 window=1\n",
      "2020-11-21 21:55:11,994 : INFO : worker thread finished; awaiting finish of 2 more threads\n",
      "2020-11-21 21:55:12,028 : INFO : worker thread finished; awaiting finish of 1 more threads\n",
      "2020-11-21 21:55:12,029 : INFO : worker thread finished; awaiting finish of 0 more threads\n",
      "2020-11-21 21:55:12,030 : INFO : EPOCH - 1 : training on 19382 raw words (18194 effective words) took 0.0s, 429586 effective words/s\n",
      "2020-11-21 21:55:12,041 : INFO : worker thread finished; awaiting finish of 2 more threads\n",
      "2020-11-21 21:55:12,067 : INFO : worker thread finished; awaiting finish of 1 more threads\n",
      "2020-11-21 21:55:12,075 : INFO : worker thread finished; awaiting finish of 0 more threads\n",
      "2020-11-21 21:55:12,076 : INFO : EPOCH - 2 : training on 19382 raw words (18171 effective words) took 0.0s, 516015 effective words/s\n",
      "2020-11-21 21:55:12,098 : INFO : worker thread finished; awaiting finish of 2 more threads\n",
      "2020-11-21 21:55:12,121 : INFO : worker thread finished; awaiting finish of 1 more threads\n",
      "2020-11-21 21:55:12,122 : INFO : worker thread finished; awaiting finish of 0 more threads\n",
      "2020-11-21 21:55:12,123 : INFO : EPOCH - 3 : training on 19382 raw words (18178 effective words) took 0.0s, 470655 effective words/s\n",
      "2020-11-21 21:55:12,133 : INFO : worker thread finished; awaiting finish of 2 more threads\n",
      "2020-11-21 21:55:12,165 : INFO : worker thread finished; awaiting finish of 1 more threads\n",
      "2020-11-21 21:55:12,169 : INFO : worker thread finished; awaiting finish of 0 more threads\n",
      "2020-11-21 21:55:12,171 : INFO : EPOCH - 4 : training on 19382 raw words (18171 effective words) took 0.0s, 437346 effective words/s\n",
      "2020-11-21 21:55:12,182 : INFO : worker thread finished; awaiting finish of 2 more threads\n",
      "2020-11-21 21:55:12,215 : INFO : worker thread finished; awaiting finish of 1 more threads\n",
      "2020-11-21 21:55:12,216 : INFO : worker thread finished; awaiting finish of 0 more threads\n",
      "2020-11-21 21:55:12,217 : INFO : EPOCH - 5 : training on 19382 raw words (18169 effective words) took 0.0s, 506978 effective words/s\n",
      "2020-11-21 21:55:12,244 : INFO : worker thread finished; awaiting finish of 2 more threads\n",
      "2020-11-21 21:55:12,265 : INFO : worker thread finished; awaiting finish of 1 more threads\n",
      "2020-11-21 21:55:12,274 : INFO : worker thread finished; awaiting finish of 0 more threads\n",
      "2020-11-21 21:55:12,275 : INFO : EPOCH - 6 : training on 19382 raw words (18180 effective words) took 0.0s, 420644 effective words/s\n",
      "2020-11-21 21:55:12,292 : INFO : worker thread finished; awaiting finish of 2 more threads\n",
      "2020-11-21 21:55:12,326 : INFO : worker thread finished; awaiting finish of 1 more threads\n",
      "2020-11-21 21:55:12,327 : INFO : worker thread finished; awaiting finish of 0 more threads\n",
      "2020-11-21 21:55:12,328 : INFO : EPOCH - 7 : training on 19382 raw words (18148 effective words) took 0.0s, 430196 effective words/s\n",
      "2020-11-21 21:55:12,349 : INFO : worker thread finished; awaiting finish of 2 more threads\n",
      "2020-11-21 21:55:12,370 : INFO : worker thread finished; awaiting finish of 1 more threads\n",
      "2020-11-21 21:55:12,381 : INFO : worker thread finished; awaiting finish of 0 more threads\n",
      "2020-11-21 21:55:12,382 : INFO : EPOCH - 8 : training on 19382 raw words (18159 effective words) took 0.0s, 388995 effective words/s\n",
      "2020-11-21 21:55:12,402 : INFO : worker thread finished; awaiting finish of 2 more threads\n",
      "2020-11-21 21:55:12,425 : INFO : worker thread finished; awaiting finish of 1 more threads\n",
      "2020-11-21 21:55:12,438 : INFO : worker thread finished; awaiting finish of 0 more threads\n",
      "2020-11-21 21:55:12,438 : INFO : EPOCH - 9 : training on 19382 raw words (18170 effective words) took 0.1s, 346425 effective words/s\n",
      "2020-11-21 21:55:12,449 : INFO : worker thread finished; awaiting finish of 2 more threads\n",
      "2020-11-21 21:55:12,492 : INFO : worker thread finished; awaiting finish of 1 more threads\n",
      "2020-11-21 21:55:12,500 : INFO : worker thread finished; awaiting finish of 0 more threads\n",
      "2020-11-21 21:55:12,501 : INFO : EPOCH - 10 : training on 19382 raw words (18145 effective words) took 0.1s, 323536 effective words/s\n",
      "2020-11-21 21:55:12,522 : INFO : worker thread finished; awaiting finish of 2 more threads\n",
      "2020-11-21 21:55:12,538 : INFO : worker thread finished; awaiting finish of 1 more threads\n",
      "2020-11-21 21:55:12,542 : INFO : worker thread finished; awaiting finish of 0 more threads\n",
      "2020-11-21 21:55:12,544 : INFO : EPOCH - 11 : training on 19382 raw words (18176 effective words) took 0.0s, 507950 effective words/s\n",
      "2020-11-21 21:55:12,555 : INFO : worker thread finished; awaiting finish of 2 more threads\n",
      "2020-11-21 21:55:12,589 : INFO : worker thread finished; awaiting finish of 1 more threads\n",
      "2020-11-21 21:55:12,591 : INFO : worker thread finished; awaiting finish of 0 more threads\n",
      "2020-11-21 21:55:12,592 : INFO : EPOCH - 12 : training on 19382 raw words (18146 effective words) took 0.0s, 434584 effective words/s\n",
      "2020-11-21 21:55:12,612 : INFO : worker thread finished; awaiting finish of 2 more threads\n",
      "2020-11-21 21:55:12,630 : INFO : worker thread finished; awaiting finish of 1 more threads\n",
      "2020-11-21 21:55:12,633 : INFO : worker thread finished; awaiting finish of 0 more threads\n",
      "2020-11-21 21:55:12,634 : INFO : EPOCH - 13 : training on 19382 raw words (18151 effective words) took 0.0s, 531526 effective words/s\n",
      "2020-11-21 21:55:12,650 : INFO : worker thread finished; awaiting finish of 2 more threads\n",
      "2020-11-21 21:55:12,665 : INFO : worker thread finished; awaiting finish of 1 more threads\n",
      "2020-11-21 21:55:12,674 : INFO : worker thread finished; awaiting finish of 0 more threads\n",
      "2020-11-21 21:55:12,676 : INFO : EPOCH - 14 : training on 19382 raw words (18150 effective words) took 0.0s, 564259 effective words/s\n",
      "2020-11-21 21:55:12,691 : INFO : worker thread finished; awaiting finish of 2 more threads\n",
      "2020-11-21 21:55:12,707 : INFO : worker thread finished; awaiting finish of 1 more threads\n",
      "2020-11-21 21:55:12,711 : INFO : worker thread finished; awaiting finish of 0 more threads\n",
      "2020-11-21 21:55:12,712 : INFO : EPOCH - 15 : training on 19382 raw words (18168 effective words) took 0.0s, 662059 effective words/s\n",
      "2020-11-21 21:55:12,728 : INFO : worker thread finished; awaiting finish of 2 more threads\n",
      "2020-11-21 21:55:12,750 : INFO : worker thread finished; awaiting finish of 1 more threads\n",
      "2020-11-21 21:55:12,754 : INFO : worker thread finished; awaiting finish of 0 more threads\n",
      "2020-11-21 21:55:12,754 : INFO : EPOCH - 16 : training on 19382 raw words (18182 effective words) took 0.0s, 474559 effective words/s\n",
      "2020-11-21 21:55:12,766 : INFO : worker thread finished; awaiting finish of 2 more threads\n",
      "2020-11-21 21:55:12,791 : INFO : worker thread finished; awaiting finish of 1 more threads\n",
      "2020-11-21 21:55:12,796 : INFO : worker thread finished; awaiting finish of 0 more threads\n",
      "2020-11-21 21:55:12,797 : INFO : EPOCH - 17 : training on 19382 raw words (18215 effective words) took 0.0s, 497830 effective words/s\n",
      "2020-11-21 21:55:12,814 : INFO : worker thread finished; awaiting finish of 2 more threads\n",
      "2020-11-21 21:55:12,832 : INFO : worker thread finished; awaiting finish of 1 more threads\n",
      "2020-11-21 21:55:12,835 : INFO : worker thread finished; awaiting finish of 0 more threads\n",
      "2020-11-21 21:55:12,836 : INFO : EPOCH - 18 : training on 19382 raw words (18165 effective words) took 0.0s, 523264 effective words/s\n",
      "2020-11-21 21:55:12,852 : INFO : worker thread finished; awaiting finish of 2 more threads\n",
      "2020-11-21 21:55:12,872 : INFO : worker thread finished; awaiting finish of 1 more threads\n",
      "2020-11-21 21:55:12,873 : INFO : worker thread finished; awaiting finish of 0 more threads\n",
      "2020-11-21 21:55:12,874 : INFO : EPOCH - 19 : training on 19382 raw words (18167 effective words) took 0.0s, 569891 effective words/s\n",
      "2020-11-21 21:55:12,890 : INFO : worker thread finished; awaiting finish of 2 more threads\n",
      "2020-11-21 21:55:12,909 : INFO : worker thread finished; awaiting finish of 1 more threads\n",
      "2020-11-21 21:55:12,914 : INFO : worker thread finished; awaiting finish of 0 more threads\n",
      "2020-11-21 21:55:12,914 : INFO : EPOCH - 20 : training on 19382 raw words (18196 effective words) took 0.0s, 496650 effective words/s\n",
      "2020-11-21 21:55:12,924 : INFO : worker thread finished; awaiting finish of 2 more threads\n",
      "2020-11-21 21:55:12,951 : INFO : worker thread finished; awaiting finish of 1 more threads\n",
      "2020-11-21 21:55:12,956 : INFO : worker thread finished; awaiting finish of 0 more threads\n",
      "2020-11-21 21:55:12,956 : INFO : EPOCH - 21 : training on 19382 raw words (18176 effective words) took 0.0s, 506183 effective words/s\n",
      "2020-11-21 21:55:12,965 : INFO : worker thread finished; awaiting finish of 2 more threads\n",
      "2020-11-21 21:55:12,988 : INFO : worker thread finished; awaiting finish of 1 more threads\n",
      "2020-11-21 21:55:12,993 : INFO : worker thread finished; awaiting finish of 0 more threads\n",
      "2020-11-21 21:55:12,994 : INFO : EPOCH - 22 : training on 19382 raw words (18106 effective words) took 0.0s, 534601 effective words/s\n",
      "2020-11-21 21:55:13,004 : INFO : worker thread finished; awaiting finish of 2 more threads\n",
      "2020-11-21 21:55:13,029 : INFO : worker thread finished; awaiting finish of 1 more threads\n",
      "2020-11-21 21:55:13,030 : INFO : worker thread finished; awaiting finish of 0 more threads\n",
      "2020-11-21 21:55:13,032 : INFO : EPOCH - 23 : training on 19382 raw words (18166 effective words) took 0.0s, 561383 effective words/s\n",
      "2020-11-21 21:55:13,044 : INFO : worker thread finished; awaiting finish of 2 more threads\n",
      "2020-11-21 21:55:13,067 : INFO : worker thread finished; awaiting finish of 1 more threads\n",
      "2020-11-21 21:55:13,073 : INFO : worker thread finished; awaiting finish of 0 more threads\n",
      "2020-11-21 21:55:13,074 : INFO : EPOCH - 24 : training on 19382 raw words (18155 effective words) took 0.0s, 545125 effective words/s\n",
      "2020-11-21 21:55:13,082 : INFO : worker thread finished; awaiting finish of 2 more threads\n",
      "2020-11-21 21:55:13,108 : INFO : worker thread finished; awaiting finish of 1 more threads\n",
      "2020-11-21 21:55:13,111 : INFO : worker thread finished; awaiting finish of 0 more threads\n",
      "2020-11-21 21:55:13,113 : INFO : EPOCH - 25 : training on 19382 raw words (18185 effective words) took 0.0s, 520731 effective words/s\n",
      "2020-11-21 21:55:13,120 : INFO : worker thread finished; awaiting finish of 2 more threads\n",
      "2020-11-21 21:55:13,142 : INFO : worker thread finished; awaiting finish of 1 more threads\n",
      "2020-11-21 21:55:13,149 : INFO : worker thread finished; awaiting finish of 0 more threads\n",
      "2020-11-21 21:55:13,150 : INFO : EPOCH - 26 : training on 19382 raw words (18160 effective words) took 0.0s, 540871 effective words/s\n",
      "2020-11-21 21:55:13,167 : INFO : worker thread finished; awaiting finish of 2 more threads\n",
      "2020-11-21 21:55:13,181 : INFO : worker thread finished; awaiting finish of 1 more threads\n",
      "2020-11-21 21:55:13,185 : INFO : worker thread finished; awaiting finish of 0 more threads\n",
      "2020-11-21 21:55:13,185 : INFO : EPOCH - 27 : training on 19382 raw words (18153 effective words) took 0.0s, 647065 effective words/s\n",
      "2020-11-21 21:55:13,195 : INFO : worker thread finished; awaiting finish of 2 more threads\n",
      "2020-11-21 21:55:13,214 : INFO : worker thread finished; awaiting finish of 1 more threads\n",
      "2020-11-21 21:55:13,222 : INFO : worker thread finished; awaiting finish of 0 more threads\n",
      "2020-11-21 21:55:13,223 : INFO : EPOCH - 28 : training on 19382 raw words (18167 effective words) took 0.0s, 583351 effective words/s\n",
      "2020-11-21 21:55:13,233 : INFO : worker thread finished; awaiting finish of 2 more threads\n",
      "2020-11-21 21:55:13,264 : INFO : worker thread finished; awaiting finish of 1 more threads\n",
      "2020-11-21 21:55:13,265 : INFO : worker thread finished; awaiting finish of 0 more threads\n",
      "2020-11-21 21:55:13,266 : INFO : EPOCH - 29 : training on 19382 raw words (18183 effective words) took 0.0s, 500846 effective words/s\n",
      "2020-11-21 21:55:13,285 : INFO : worker thread finished; awaiting finish of 2 more threads\n",
      "2020-11-21 21:55:13,304 : INFO : worker thread finished; awaiting finish of 1 more threads\n",
      "2020-11-21 21:55:13,305 : INFO : worker thread finished; awaiting finish of 0 more threads\n",
      "2020-11-21 21:55:13,306 : INFO : EPOCH - 30 : training on 19382 raw words (18199 effective words) took 0.0s, 633582 effective words/s\n",
      "2020-11-21 21:55:13,307 : INFO : training on a 581460 raw words (545051 effective words) took 1.3s, 412405 effective words/s\n"
     ]
    }
   ],
   "source": [
    "for text in Jules_Verne_texts_corpus:\n",
    "    new_lines_jule = preprocess_text(text)\n",
    "    model_jule = Word2Vec(size = 300, window=1, min_count=1)   \n",
    "    model_jule.build_vocab(new_lines_jule, progress_per=10000)\n",
    "    model_jule.train(new_lines_jule, total_examples=model_jule.corpus_count, epochs=30, report_delay=1)"
   ]
  },
  {
   "cell_type": "code",
   "execution_count": 21,
   "metadata": {},
   "outputs": [
    {
     "name": "stderr",
     "output_type": "stream",
     "text": [
      "2020-11-21 21:55:17,718 : INFO : precomputing L2-norms of word weight vectors\n"
     ]
    },
    {
     "name": "stdout",
     "output_type": "stream",
     "text": [
      "girl\n",
      "[-0.08929363 -0.1057674   0.08301657  0.15511873  0.31376404  0.132018\n",
      "  0.11930279  0.15845223 -0.01605319 -0.3563892 ]\n",
      "combined 0.9452272057533264\n",
      "cautious 0.944582462310791\n",
      "telephone 0.9360426664352417\n",
      "expression 0.9359419345855713\n",
      "Desert 0.9335581064224243\n",
      "Barren 0.932586133480072\n",
      "entire 0.9319137930870056\n",
      "bon 0.9317128658294678\n",
      "procession 0.9290114045143127\n",
      "friendship 0.9287800788879395\n",
      "\n",
      "\n",
      "good\n",
      "[-0.2664436  -0.05100249  0.02369927  0.16345328  0.11989176  0.07008989\n",
      "  0.09654446 -0.05386116  0.23673147 -0.3133386 ]\n",
      "Clear 0.9426881670951843\n",
      "far 0.9216550588607788\n",
      "astounded 0.9181070327758789\n",
      "deal 0.9160429239273071\n",
      "marry 0.9148531556129456\n",
      "things 0.9147371053695679\n",
      "true 0.9119892120361328\n",
      "comply 0.9119702577590942\n",
      "Poppa 0.9106424450874329\n",
      "believed 0.9104852676391602\n",
      "\n",
      "\n",
      "wall\n",
      "[-0.06040157 -0.03022976 -0.0030513   0.04328581  0.06474999  0.02463825\n",
      "  0.0883616   0.07049754  0.03334976 -0.18047923]\n",
      "chin 0.9978666305541992\n",
      "desk 0.9978469610214233\n",
      "annoy 0.9976807236671448\n",
      "Man 0.9976769089698792\n",
      "prolonged 0.9975811839103699\n",
      "calendar 0.9975336790084839\n",
      "2 0.9975042343139648\n",
      "obeying 0.9973191618919373\n",
      "instincts 0.9973061680793762\n",
      "ear 0.9972963929176331\n",
      "\n",
      "\n",
      "fire\n",
      "[-0.04019212 -0.01879829  0.00038722  0.02739411  0.03092996  0.01273028\n",
      "  0.05008223  0.05550326  0.01998072 -0.09879749]\n",
      "recovered 0.9960715174674988\n",
      "thankfully 0.9957529306411743\n",
      "removal 0.995722234249115\n",
      "noweadly 0.9954748749732971\n",
      "wrote 0.995390772819519\n",
      "melancholy 0.9953182935714722\n",
      "pink 0.9951604604721069\n",
      "overwrought 0.9949237108230591\n",
      "gallantly 0.9947060942649841\n",
      "h 0.9946719408035278\n",
      "\n",
      "\n",
      "like\n",
      "[-0.18575816  0.00981629  0.01282426  0.15703313  0.0774259   0.23734601\n",
      "  0.00452448  0.14578637  0.20734455 -0.319494  ]\n",
      "guess 0.972550630569458\n",
      "expect 0.9696320295333862\n",
      "loving 0.9662672877311707\n",
      "marry 0.9660456776618958\n",
      "stick 0.963705837726593\n",
      "madeup 0.9626891613006592\n",
      "deadly 0.9600478410720825\n",
      "amuses 0.9591493606567383\n",
      "foreigner 0.959070086479187\n",
      "glad 0.958829939365387\n",
      "\n",
      "\n"
     ]
    }
   ],
   "source": [
    "show_first_10_most_semantically_similar_words(model_agatha)"
   ]
  },
  {
   "cell_type": "code",
   "execution_count": 22,
   "metadata": {},
   "outputs": [
    {
     "name": "stderr",
     "output_type": "stream",
     "text": [
      "2020-11-21 21:55:20,633 : INFO : precomputing L2-norms of word weight vectors\n"
     ]
    },
    {
     "name": "stdout",
     "output_type": "stream",
     "text": [
      "Oops, the word \"girl\" is not in the model!\n",
      "good\n",
      "[-0.08370189  0.05036613  0.16446309  0.18037257  0.07170582  0.07094422\n",
      "  0.17560059 -0.20707674 -0.02616582 -0.12466414]\n",
      "master 0.9997168779373169\n",
      "word 0.9996523857116699\n",
      "polypi 0.9996505379676819\n",
      "They 0.9996490478515625\n",
      "thought 0.9996458292007446\n",
      "came 0.9996458292007446\n",
      "believe 0.9996384382247925\n",
      "perhaps 0.9996340274810791\n",
      "get 0.9996339678764343\n",
      "matter 0.9996330142021179\n",
      "\n",
      "\n",
      "wall\n",
      "[-0.00620152  0.00292002  0.0084945   0.00972216  0.00271368  0.00342126\n",
      "  0.01013064 -0.01089505 -0.00247879 -0.00665411]\n",
      "craft 0.9913418889045715\n",
      "surpassed 0.9911935329437256\n",
      "fires 0.9911089539527893\n",
      "resist 0.9910727739334106\n",
      "inquiries 0.9910221695899963\n",
      "provided 0.9910192489624023\n",
      "sides 0.990942120552063\n",
      "torrent 0.9908256530761719\n",
      "change 0.9908072352409363\n",
      "millions 0.9907934665679932\n",
      "\n",
      "\n",
      "fire\n",
      "[-0.03219917  0.01942726  0.06752423  0.07032394  0.02725579  0.02736942\n",
      "  0.07028387 -0.08241309 -0.00884843 -0.05120768]\n",
      "much 0.9996996521949768\n",
      "produced 0.9996899366378784\n",
      "gun 0.9996883869171143\n",
      "It 0.9996861219406128\n",
      "believe 0.9996843338012695\n",
      "They 0.9996815919876099\n",
      "strong 0.9996801614761353\n",
      "thick 0.999677836894989\n",
      "black 0.999674916267395\n",
      "clearly 0.9996662139892578\n",
      "\n",
      "\n",
      "like\n",
      "[-0.1190735   0.07737555  0.24184135  0.2612562   0.10083051  0.10562496\n",
      "  0.26502693 -0.3008225  -0.03662319 -0.18394026]\n",
      "This 0.9998584389686584\n",
      "hand 0.9998562932014465\n",
      "It 0.9998508095741272\n",
      "islands 0.9998495578765869\n",
      "thick 0.9998493194580078\n",
      "men 0.9998297691345215\n",
      "expression 0.9998231530189514\n",
      "learned 0.9998196959495544\n",
      "till 0.9998182654380798\n",
      "group 0.9998181462287903\n",
      "\n",
      "\n"
     ]
    }
   ],
   "source": [
    "show_first_10_most_semantically_similar_words(model_jule)"
   ]
  },
  {
   "cell_type": "markdown",
   "metadata": {},
   "source": [
    "And now we will plot the distributions of the word embeddings by two models and see, how they differ from each other"
   ]
  },
  {
   "cell_type": "code",
   "execution_count": 23,
   "metadata": {},
   "outputs": [],
   "source": [
    "from sklearn.decomposition import PCA\n",
    "import matplotlib.pyplot as plt\n",
    "%matplotlib inline\n",
    "word_1 = [w for w in model_jule.wv.vocab]\n",
    "X_1 = model_jule[word_1]\n",
    "words = [w for w in model_agatha.wv.vocab]\n",
    "X = model_agatha[words]"
   ]
  },
  {
   "cell_type": "code",
   "execution_count": 24,
   "metadata": {},
   "outputs": [
    {
     "name": "stdout",
     "output_type": "stream",
     "text": [
      "4.5710657e-08\n",
      "-2.6426473e-08\n"
     ]
    }
   ],
   "source": [
    "pca = PCA(n_components=2)\n",
    "coords_1 = pca.fit_transform(X_1)\n",
    "xes_1 = [coords_1[i][0] for i in range(len(coords_1))]\n",
    "yes_1 = [coords_1[i][1] for i in range(len(coords_1))]\n",
    "print(np.mean(xes_1))\n",
    "print(np.mean(yes_1))\n",
    "A = [np.mean(xes_1), np.mean(yes_1)]"
   ]
  },
  {
   "cell_type": "code",
   "execution_count": 25,
   "metadata": {},
   "outputs": [
    {
     "name": "stdout",
     "output_type": "stream",
     "text": [
      "-2.9225274e-07\n",
      "3.4248366e-09\n"
     ]
    }
   ],
   "source": [
    "pca = PCA(n_components=2)\n",
    "coords = pca.fit_transform(X)\n",
    "#print(coords)\n",
    "xes = [coords[i][0] for i in range(len(coords))]\n",
    "yes = [coords[i][1] for i in range(len(coords))]\n",
    "#print(xes)\n",
    "print(np.mean(xes))\n",
    "print(np.mean(yes))\n",
    "B = [np.mean(xes), np.mean(yes)]"
   ]
  },
  {
   "cell_type": "code",
   "execution_count": 26,
   "metadata": {},
   "outputs": [
    {
     "data": {
      "image/png": "[encoded data removed]",
      "text/plain": [
       "<Figure size 432x288 with 1 Axes>"
      ]
     },
     "metadata": {
      "needs_background": "light"
     },
     "output_type": "display_data"
    }
   ],
   "source": [
    "plt.scatter(coords[:, 0], coords[:, 1], color='blue')\n",
    "plt.scatter(coords_1[:, 0], coords_1[:, 1], color='red')\n",
    "#plt.scatter(coords_2[:, 0], coords_2[:, 1], color='yellow')\n",
    "#plt.scatter(A[0], A[1], color = 'blue')\n",
    "#plt.scatter(B[0], B[1], color= 'red')\n",
    "plt.title('Words')\n",
    "\n",
    "#for i, word in enumerate(words):\n",
    "   # plt.annotate(word, xy=(coords[i, 0], coords[i, 1]))\n",
    "#for i, word in enumerate(word_1):\n",
    "   # plt.annotate(word, xy=(coords_1[i, 0], coords_1[i, 1]))\n",
    "plt.show()"
   ]
  },
  {
   "cell_type": "markdown",
   "metadata": {},
   "source": [
    "This final plot shows interesting thing, the book by Agatha Christie has more semantically different words, and the most important is the fact, that we see difference between the adventure book and the detective, so that we can teach the computer to detect the semantical style of the random book to identify its genre, so it can be made in the future researches...\n"
   ]
  },
  {
   "cell_type": "markdown",
   "metadata": {},
   "source": [
    "Thats all for now."
   ]
  }
 ],
 "metadata": {
  "kernelspec": {
   "display_name": "Python 3",
   "language": "python",
   "name": "python3"
  },
  "language_info": {
   "codemirror_mode": {
    "name": "ipython",
    "version": 3
   },
   "file_extension": ".py",
   "mimetype": "text/x-python",
   "name": "python",
   "nbconvert_exporter": "python",
   "pygments_lexer": "ipython3",
   "version": "3.7.6"
  }
 },
 "nbformat": 4,
 "nbformat_minor": 4
}
